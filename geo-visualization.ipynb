{
 "cells": [
  {
   "cell_type": "code",
   "execution_count": 1,
   "id": "eff99854",
   "metadata": {
    "_cell_guid": "b1076dfc-b9ad-4769-8c92-a6c4dae69d19",
    "_uuid": "8f2839f25d086af736a60e9eeb907d3b93b6e0e5",
    "execution": {
     "iopub.execute_input": "2023-11-14T06:23:11.127349Z",
     "iopub.status.busy": "2023-11-14T06:23:11.126912Z",
     "iopub.status.idle": "2023-11-14T06:23:11.562072Z",
     "shell.execute_reply": "2023-11-14T06:23:11.560855Z"
    },
    "papermill": {
     "duration": 0.444054,
     "end_time": "2023-11-14T06:23:11.564711",
     "exception": false,
     "start_time": "2023-11-14T06:23:11.120657",
     "status": "completed"
    },
    "tags": []
   },
   "outputs": [
    {
     "name": "stdout",
     "output_type": "stream",
     "text": [
      "/kaggle/input/parking/Parking Data.csv\n"
     ]
    }
   ],
   "source": [
    "# This Python 3 environment comes with many helpful analytics libraries installed\n",
    "# It is defined by the kaggle/python Docker image: https://github.com/kaggle/docker-python\n",
    "# For example, here's several helpful packages to load\n",
    "\n",
    "import numpy as np # linear algebra\n",
    "import pandas as pd # data processing, CSV file I/O (e.g. pd.read_csv)\n",
    "\n",
    "# Input data files are available in the read-only \"../input/\" directory\n",
    "# For example, running this (by clicking run or pressing Shift+Enter) will list all files under the input directory\n",
    "\n",
    "import os\n",
    "for dirname, _, filenames in os.walk('/kaggle/input'):\n",
    "    for filename in filenames:\n",
    "        print(os.path.join(dirname, filename))\n",
    "\n",
    "# You can write up to 20GB to the current directory (/kaggle/working/) that gets preserved as output when you create a version using \"Save & Run All\" \n",
    "# You can also write temporary files to /kaggle/temp/, but they won't be saved outside of the current session"
   ]
  },
  {
   "cell_type": "code",
   "execution_count": 2,
   "id": "53198afc",
   "metadata": {
    "execution": {
     "iopub.execute_input": "2023-11-14T06:23:11.575234Z",
     "iopub.status.busy": "2023-11-14T06:23:11.574681Z",
     "iopub.status.idle": "2023-11-14T06:23:11.636552Z",
     "shell.execute_reply": "2023-11-14T06:23:11.635680Z"
    },
    "papermill": {
     "duration": 0.069628,
     "end_time": "2023-11-14T06:23:11.638823",
     "exception": false,
     "start_time": "2023-11-14T06:23:11.569195",
     "status": "completed"
    },
    "tags": []
   },
   "outputs": [
    {
     "data": {
      "text/html": [
       "<div>\n",
       "<style scoped>\n",
       "    .dataframe tbody tr th:only-of-type {\n",
       "        vertical-align: middle;\n",
       "    }\n",
       "\n",
       "    .dataframe tbody tr th {\n",
       "        vertical-align: top;\n",
       "    }\n",
       "\n",
       "    .dataframe thead th {\n",
       "        text-align: right;\n",
       "    }\n",
       "</style>\n",
       "<table border=\"1\" class=\"dataframe\">\n",
       "  <thead>\n",
       "    <tr style=\"text-align: right;\">\n",
       "      <th></th>\n",
       "      <th>Bldg City</th>\n",
       "      <th>Bldg State</th>\n",
       "      <th>Bldg Status</th>\n",
       "      <th>Property Type</th>\n",
       "      <th>Total Parking Spaces</th>\n",
       "      <th>Owned/Leased</th>\n",
       "    </tr>\n",
       "  </thead>\n",
       "  <tbody>\n",
       "    <tr>\n",
       "      <th>0</th>\n",
       "      <td>HARTFORD</td>\n",
       "      <td>CT</td>\n",
       "      <td>ACTIVE</td>\n",
       "      <td>BUILDING</td>\n",
       "      <td>29</td>\n",
       "      <td>OWNED</td>\n",
       "    </tr>\n",
       "    <tr>\n",
       "      <th>1</th>\n",
       "      <td>NEW HAVEN</td>\n",
       "      <td>CT</td>\n",
       "      <td>ACTIVE</td>\n",
       "      <td>BUILDING</td>\n",
       "      <td>0</td>\n",
       "      <td>OWNED</td>\n",
       "    </tr>\n",
       "    <tr>\n",
       "      <th>2</th>\n",
       "      <td>WATERBURY</td>\n",
       "      <td>CT</td>\n",
       "      <td>ACTIVE</td>\n",
       "      <td>BUILDING</td>\n",
       "      <td>2</td>\n",
       "      <td>LEASED</td>\n",
       "    </tr>\n",
       "    <tr>\n",
       "      <th>3</th>\n",
       "      <td>WILLIMANTIC</td>\n",
       "      <td>CT</td>\n",
       "      <td>ACTIVE</td>\n",
       "      <td>BUILDING</td>\n",
       "      <td>0</td>\n",
       "      <td>LEASED</td>\n",
       "    </tr>\n",
       "    <tr>\n",
       "      <th>4</th>\n",
       "      <td>HARTFORD</td>\n",
       "      <td>CT</td>\n",
       "      <td>ACTIVE</td>\n",
       "      <td>BUILDING</td>\n",
       "      <td>103</td>\n",
       "      <td>OWNED</td>\n",
       "    </tr>\n",
       "    <tr>\n",
       "      <th>...</th>\n",
       "      <td>...</td>\n",
       "      <td>...</td>\n",
       "      <td>...</td>\n",
       "      <td>...</td>\n",
       "      <td>...</td>\n",
       "      <td>...</td>\n",
       "    </tr>\n",
       "    <tr>\n",
       "      <th>9055</th>\n",
       "      <td>FALLON</td>\n",
       "      <td>NV</td>\n",
       "      <td>ACTIVE</td>\n",
       "      <td>BUILDING</td>\n",
       "      <td>12</td>\n",
       "      <td>LEASED</td>\n",
       "    </tr>\n",
       "    <tr>\n",
       "      <th>9056</th>\n",
       "      <td>ELKO</td>\n",
       "      <td>NV</td>\n",
       "      <td>ACTIVE</td>\n",
       "      <td>BUILDING</td>\n",
       "      <td>2</td>\n",
       "      <td>LEASED</td>\n",
       "    </tr>\n",
       "    <tr>\n",
       "      <th>9057</th>\n",
       "      <td>LAS VEGAS</td>\n",
       "      <td>NV</td>\n",
       "      <td>ACTIVE</td>\n",
       "      <td>BUILDING</td>\n",
       "      <td>3</td>\n",
       "      <td>LEASED</td>\n",
       "    </tr>\n",
       "    <tr>\n",
       "      <th>9058</th>\n",
       "      <td>LAS VEGAS</td>\n",
       "      <td>NV</td>\n",
       "      <td>ACTIVE</td>\n",
       "      <td>BUILDING</td>\n",
       "      <td>24</td>\n",
       "      <td>LEASED</td>\n",
       "    </tr>\n",
       "    <tr>\n",
       "      <th>9059</th>\n",
       "      <td>LAS VEGAS</td>\n",
       "      <td>NV</td>\n",
       "      <td>ACTIVE</td>\n",
       "      <td>BUILDING</td>\n",
       "      <td>7</td>\n",
       "      <td>LEASED</td>\n",
       "    </tr>\n",
       "  </tbody>\n",
       "</table>\n",
       "<p>9060 rows × 6 columns</p>\n",
       "</div>"
      ],
      "text/plain": [
       "        Bldg City Bldg State Bldg Status Property Type  Total Parking Spaces  \\\n",
       "0        HARTFORD         CT      ACTIVE      BUILDING                    29   \n",
       "1       NEW HAVEN         CT      ACTIVE      BUILDING                     0   \n",
       "2       WATERBURY         CT      ACTIVE      BUILDING                     2   \n",
       "3     WILLIMANTIC         CT      ACTIVE      BUILDING                     0   \n",
       "4        HARTFORD         CT      ACTIVE      BUILDING                   103   \n",
       "...           ...        ...         ...           ...                   ...   \n",
       "9055       FALLON         NV      ACTIVE      BUILDING                    12   \n",
       "9056         ELKO         NV      ACTIVE      BUILDING                     2   \n",
       "9057    LAS VEGAS         NV      ACTIVE      BUILDING                     3   \n",
       "9058    LAS VEGAS         NV      ACTIVE      BUILDING                    24   \n",
       "9059    LAS VEGAS         NV      ACTIVE      BUILDING                     7   \n",
       "\n",
       "     Owned/Leased  \n",
       "0           OWNED  \n",
       "1           OWNED  \n",
       "2          LEASED  \n",
       "3          LEASED  \n",
       "4           OWNED  \n",
       "...           ...  \n",
       "9055       LEASED  \n",
       "9056       LEASED  \n",
       "9057       LEASED  \n",
       "9058       LEASED  \n",
       "9059       LEASED  \n",
       "\n",
       "[9060 rows x 6 columns]"
      ]
     },
     "execution_count": 2,
     "metadata": {},
     "output_type": "execute_result"
    }
   ],
   "source": [
    "data=pd.read_csv('/kaggle/input/parking/Parking Data.csv')\n",
    "data"
   ]
  },
  {
   "cell_type": "code",
   "execution_count": 3,
   "id": "69ee1409",
   "metadata": {
    "execution": {
     "iopub.execute_input": "2023-11-14T06:23:11.651452Z",
     "iopub.status.busy": "2023-11-14T06:23:11.650512Z",
     "iopub.status.idle": "2023-11-14T06:23:11.684335Z",
     "shell.execute_reply": "2023-11-14T06:23:11.683226Z"
    },
    "papermill": {
     "duration": 0.043006,
     "end_time": "2023-11-14T06:23:11.686941",
     "exception": false,
     "start_time": "2023-11-14T06:23:11.643935",
     "status": "completed"
    },
    "tags": []
   },
   "outputs": [
    {
     "name": "stdout",
     "output_type": "stream",
     "text": [
      "<class 'pandas.core.frame.DataFrame'>\n",
      "RangeIndex: 9060 entries, 0 to 9059\n",
      "Data columns (total 6 columns):\n",
      " #   Column                Non-Null Count  Dtype \n",
      "---  ------                --------------  ----- \n",
      " 0   Bldg City             9060 non-null   object\n",
      " 1   Bldg State            9060 non-null   object\n",
      " 2   Bldg Status           9060 non-null   object\n",
      " 3   Property Type         9060 non-null   object\n",
      " 4   Total Parking Spaces  9060 non-null   int64 \n",
      " 5   Owned/Leased          9060 non-null   object\n",
      "dtypes: int64(1), object(5)\n",
      "memory usage: 424.8+ KB\n"
     ]
    }
   ],
   "source": [
    "data.info()"
   ]
  },
  {
   "cell_type": "code",
   "execution_count": 4,
   "id": "9da7e5b4",
   "metadata": {
    "execution": {
     "iopub.execute_input": "2023-11-14T06:23:11.698245Z",
     "iopub.status.busy": "2023-11-14T06:23:11.697827Z",
     "iopub.status.idle": "2023-11-14T06:23:11.705144Z",
     "shell.execute_reply": "2023-11-14T06:23:11.703964Z"
    },
    "papermill": {
     "duration": 0.015599,
     "end_time": "2023-11-14T06:23:11.707337",
     "exception": false,
     "start_time": "2023-11-14T06:23:11.691738",
     "status": "completed"
    },
    "tags": []
   },
   "outputs": [
    {
     "data": {
      "text/plain": [
       "Index(['Bldg City', 'Bldg State', 'Bldg Status', 'Property Type',\n",
       "       'Total Parking Spaces', 'Owned/Leased'],\n",
       "      dtype='object')"
      ]
     },
     "execution_count": 4,
     "metadata": {},
     "output_type": "execute_result"
    }
   ],
   "source": [
    "data.columns"
   ]
  },
  {
   "cell_type": "code",
   "execution_count": 5,
   "id": "cd10c85d",
   "metadata": {
    "execution": {
     "iopub.execute_input": "2023-11-14T06:23:11.719033Z",
     "iopub.status.busy": "2023-11-14T06:23:11.718271Z",
     "iopub.status.idle": "2023-11-14T06:23:11.731947Z",
     "shell.execute_reply": "2023-11-14T06:23:11.731143Z"
    },
    "papermill": {
     "duration": 0.021732,
     "end_time": "2023-11-14T06:23:11.734014",
     "exception": false,
     "start_time": "2023-11-14T06:23:11.712282",
     "status": "completed"
    },
    "tags": []
   },
   "outputs": [
    {
     "data": {
      "text/plain": [
       "Bldg City               0\n",
       "Bldg State              0\n",
       "Bldg Status             0\n",
       "Property Type           0\n",
       "Total Parking Spaces    0\n",
       "Owned/Leased            0\n",
       "dtype: int64"
      ]
     },
     "execution_count": 5,
     "metadata": {},
     "output_type": "execute_result"
    }
   ],
   "source": [
    "data.isna().sum()"
   ]
  },
  {
   "cell_type": "code",
   "execution_count": 6,
   "id": "d78da9b6",
   "metadata": {
    "execution": {
     "iopub.execute_input": "2023-11-14T06:23:11.746431Z",
     "iopub.status.busy": "2023-11-14T06:23:11.745329Z",
     "iopub.status.idle": "2023-11-14T06:23:11.755131Z",
     "shell.execute_reply": "2023-11-14T06:23:11.753824Z"
    },
    "papermill": {
     "duration": 0.01846,
     "end_time": "2023-11-14T06:23:11.757490",
     "exception": false,
     "start_time": "2023-11-14T06:23:11.739030",
     "status": "completed"
    },
    "tags": []
   },
   "outputs": [
    {
     "data": {
      "text/html": [
       "<div class='tableauPlaceholder' id='viz1624190044943' style='position: relative'><noscript><a href='#'><img alt='Total Parking Spaces By Owned&#47;Leased  ' src='https:&#47;&#47;public.tableau.com&#47;static&#47;images&#47;Pa&#47;ParkingDataAnalysisProject&#47;Sheet1&#47;1_rss.png' style='border: none' /></a></noscript><object class='tableauViz'  style='display:none;'><param name='host_url' value='https%3A%2F%2Fpublic.tableau.com%2F' /> <param name='embed_code_version' value='3' /> <param name='site_root' value='' /><param name='name' value='ParkingDataAnalysisProject&#47;Sheet1' /><param name='tabs' value='no' /><param name='toolbar' value='yes' /><param name='static_image' value='https:&#47;&#47;public.tableau.com&#47;static&#47;images&#47;Pa&#47;ParkingDataAnalysisProject&#47;Sheet1&#47;1.png' /> <param name='animate_transition' value='yes' /><param name='display_static_image' value='yes' /><param name='display_spinner' value='yes' /><param name='display_overlay' value='yes' /><param name='display_count' value='yes' /><param name='language' value='en-US' /></object></div>                <script type='text/javascript'>                    var divElement = document.getElementById('viz1624190044943');                    var vizElement = divElement.getElementsByTagName('object')[0];                    vizElement.style.width='100%';vizElement.style.height=(divElement.offsetWidth*0.75)+'px';                    var scriptElement = document.createElement('script');                    scriptElement.src = 'https://public.tableau.com/javascripts/api/viz_v1.js';                    vizElement.parentNode.insertBefore(scriptElement, vizElement);                </script>\n"
      ],
      "text/plain": [
       "<IPython.core.display.HTML object>"
      ]
     },
     "metadata": {},
     "output_type": "display_data"
    }
   ],
   "source": [
    "%%HTML\n",
    "<div class='tableauPlaceholder' id='viz1624190044943' style='position: relative'><noscript><a href='#'><img alt='Total Parking Spaces By Owned&#47;Leased  ' src='https:&#47;&#47;public.tableau.com&#47;static&#47;images&#47;Pa&#47;ParkingDataAnalysisProject&#47;Sheet1&#47;1_rss.png' style='border: none' /></a></noscript><object class='tableauViz'  style='display:none;'><param name='host_url' value='https%3A%2F%2Fpublic.tableau.com%2F' /> <param name='embed_code_version' value='3' /> <param name='site_root' value='' /><param name='name' value='ParkingDataAnalysisProject&#47;Sheet1' /><param name='tabs' value='no' /><param name='toolbar' value='yes' /><param name='static_image' value='https:&#47;&#47;public.tableau.com&#47;static&#47;images&#47;Pa&#47;ParkingDataAnalysisProject&#47;Sheet1&#47;1.png' /> <param name='animate_transition' value='yes' /><param name='display_static_image' value='yes' /><param name='display_spinner' value='yes' /><param name='display_overlay' value='yes' /><param name='display_count' value='yes' /><param name='language' value='en-US' /></object></div>                <script type='text/javascript'>                    var divElement = document.getElementById('viz1624190044943');                    var vizElement = divElement.getElementsByTagName('object')[0];                    vizElement.style.width='100%';vizElement.style.height=(divElement.offsetWidth*0.75)+'px';                    var scriptElement = document.createElement('script');                    scriptElement.src = 'https://public.tableau.com/javascripts/api/viz_v1.js';                    vizElement.parentNode.insertBefore(scriptElement, vizElement);                </script>"
   ]
  },
  {
   "cell_type": "code",
   "execution_count": 7,
   "id": "0a0eb0a1",
   "metadata": {
    "execution": {
     "iopub.execute_input": "2023-11-14T06:23:11.770292Z",
     "iopub.status.busy": "2023-11-14T06:23:11.769560Z",
     "iopub.status.idle": "2023-11-14T06:23:11.777756Z",
     "shell.execute_reply": "2023-11-14T06:23:11.776563Z"
    },
    "papermill": {
     "duration": 0.017618,
     "end_time": "2023-11-14T06:23:11.780348",
     "exception": false,
     "start_time": "2023-11-14T06:23:11.762730",
     "status": "completed"
    },
    "tags": []
   },
   "outputs": [
    {
     "data": {
      "text/html": [
       "<div class='tableauPlaceholder' id='viz1624189980728' style='position: relative'><noscript><a href='#'><img alt='Total Parking Space By Property Type ' src='https:&#47;&#47;public.tableau.com&#47;static&#47;images&#47;Pa&#47;ParkingDataAnalysisProject&#47;Sheet2&#47;1_rss.png' style='border: none' /></a></noscript><object class='tableauViz'  style='display:none;'><param name='host_url' value='https%3A%2F%2Fpublic.tableau.com%2F' /> <param name='embed_code_version' value='3' /> <param name='site_root' value='' /><param name='name' value='ParkingDataAnalysisProject&#47;Sheet2' /><param name='tabs' value='no' /><param name='toolbar' value='yes' /><param name='static_image' value='https:&#47;&#47;public.tableau.com&#47;static&#47;images&#47;Pa&#47;ParkingDataAnalysisProject&#47;Sheet2&#47;1.png' /> <param name='animate_transition' value='yes' /><param name='display_static_image' value='yes' /><param name='display_spinner' value='yes' /><param name='display_overlay' value='yes' /><param name='display_count' value='yes' /><param name='language' value='en-US' /></object></div>                <script type='text/javascript'>                    var divElement = document.getElementById('viz1624189980728');                    var vizElement = divElement.getElementsByTagName('object')[0];                    vizElement.style.width='100%';vizElement.style.height=(divElement.offsetWidth*0.75)+'px';                    var scriptElement = document.createElement('script');                    scriptElement.src = 'https://public.tableau.com/javascripts/api/viz_v1.js';                    vizElement.parentNode.insertBefore(scriptElement, vizElement);                </script>\n"
      ],
      "text/plain": [
       "<IPython.core.display.HTML object>"
      ]
     },
     "metadata": {},
     "output_type": "display_data"
    }
   ],
   "source": [
    "%%HTML\n",
    "<div class='tableauPlaceholder' id='viz1624189980728' style='position: relative'><noscript><a href='#'><img alt='Total Parking Space By Property Type ' src='https:&#47;&#47;public.tableau.com&#47;static&#47;images&#47;Pa&#47;ParkingDataAnalysisProject&#47;Sheet2&#47;1_rss.png' style='border: none' /></a></noscript><object class='tableauViz'  style='display:none;'><param name='host_url' value='https%3A%2F%2Fpublic.tableau.com%2F' /> <param name='embed_code_version' value='3' /> <param name='site_root' value='' /><param name='name' value='ParkingDataAnalysisProject&#47;Sheet2' /><param name='tabs' value='no' /><param name='toolbar' value='yes' /><param name='static_image' value='https:&#47;&#47;public.tableau.com&#47;static&#47;images&#47;Pa&#47;ParkingDataAnalysisProject&#47;Sheet2&#47;1.png' /> <param name='animate_transition' value='yes' /><param name='display_static_image' value='yes' /><param name='display_spinner' value='yes' /><param name='display_overlay' value='yes' /><param name='display_count' value='yes' /><param name='language' value='en-US' /></object></div>                <script type='text/javascript'>                    var divElement = document.getElementById('viz1624189980728');                    var vizElement = divElement.getElementsByTagName('object')[0];                    vizElement.style.width='100%';vizElement.style.height=(divElement.offsetWidth*0.75)+'px';                    var scriptElement = document.createElement('script');                    scriptElement.src = 'https://public.tableau.com/javascripts/api/viz_v1.js';                    vizElement.parentNode.insertBefore(scriptElement, vizElement);                </script>"
   ]
  },
  {
   "cell_type": "code",
   "execution_count": 8,
   "id": "2a6df157",
   "metadata": {
    "execution": {
     "iopub.execute_input": "2023-11-14T06:23:11.796475Z",
     "iopub.status.busy": "2023-11-14T06:23:11.795577Z",
     "iopub.status.idle": "2023-11-14T06:23:11.808367Z",
     "shell.execute_reply": "2023-11-14T06:23:11.806180Z"
    },
    "papermill": {
     "duration": 0.025397,
     "end_time": "2023-11-14T06:23:11.811804",
     "exception": false,
     "start_time": "2023-11-14T06:23:11.786407",
     "status": "completed"
    },
    "tags": []
   },
   "outputs": [
    {
     "data": {
      "text/html": [
       "<div class='tableauPlaceholder' id='viz1624190390712' style='position: relative'><noscript><a href='#'><img alt='Total Parking Space Within Property Type How many Leased and Owned ' src='https:&#47;&#47;public.tableau.com&#47;static&#47;images&#47;Pa&#47;ParkingDataAnalysisProject&#47;Sheet3&#47;1_rss.png' style='border: none' /></a></noscript><object class='tableauViz'  style='display:none;'><param name='host_url' value='https%3A%2F%2Fpublic.tableau.com%2F' /> <param name='embed_code_version' value='3' /> <param name='site_root' value='' /><param name='name' value='ParkingDataAnalysisProject&#47;Sheet3' /><param name='tabs' value='no' /><param name='toolbar' value='yes' /><param name='static_image' value='https:&#47;&#47;public.tableau.com&#47;static&#47;images&#47;Pa&#47;ParkingDataAnalysisProject&#47;Sheet3&#47;1.png' /> <param name='animate_transition' value='yes' /><param name='display_static_image' value='yes' /><param name='display_spinner' value='yes' /><param name='display_overlay' value='yes' /><param name='display_count' value='yes' /><param name='language' value='en-US' /></object></div>                <script type='text/javascript'>                    var divElement = document.getElementById('viz1624190390712');                    var vizElement = divElement.getElementsByTagName('object')[0];                    vizElement.style.width='100%';vizElement.style.height=(divElement.offsetWidth*0.75)+'px';                    var scriptElement = document.createElement('script');                    scriptElement.src = 'https://public.tableau.com/javascripts/api/viz_v1.js';                    vizElement.parentNode.insertBefore(scriptElement, vizElement);                </script>\n"
      ],
      "text/plain": [
       "<IPython.core.display.HTML object>"
      ]
     },
     "metadata": {},
     "output_type": "display_data"
    }
   ],
   "source": [
    "%%HTML\n",
    "<div class='tableauPlaceholder' id='viz1624190390712' style='position: relative'><noscript><a href='#'><img alt='Total Parking Space Within Property Type How many Leased and Owned ' src='https:&#47;&#47;public.tableau.com&#47;static&#47;images&#47;Pa&#47;ParkingDataAnalysisProject&#47;Sheet3&#47;1_rss.png' style='border: none' /></a></noscript><object class='tableauViz'  style='display:none;'><param name='host_url' value='https%3A%2F%2Fpublic.tableau.com%2F' /> <param name='embed_code_version' value='3' /> <param name='site_root' value='' /><param name='name' value='ParkingDataAnalysisProject&#47;Sheet3' /><param name='tabs' value='no' /><param name='toolbar' value='yes' /><param name='static_image' value='https:&#47;&#47;public.tableau.com&#47;static&#47;images&#47;Pa&#47;ParkingDataAnalysisProject&#47;Sheet3&#47;1.png' /> <param name='animate_transition' value='yes' /><param name='display_static_image' value='yes' /><param name='display_spinner' value='yes' /><param name='display_overlay' value='yes' /><param name='display_count' value='yes' /><param name='language' value='en-US' /></object></div>                <script type='text/javascript'>                    var divElement = document.getElementById('viz1624190390712');                    var vizElement = divElement.getElementsByTagName('object')[0];                    vizElement.style.width='100%';vizElement.style.height=(divElement.offsetWidth*0.75)+'px';                    var scriptElement = document.createElement('script');                    scriptElement.src = 'https://public.tableau.com/javascripts/api/viz_v1.js';                    vizElement.parentNode.insertBefore(scriptElement, vizElement);                </script>"
   ]
  },
  {
   "cell_type": "code",
   "execution_count": 9,
   "id": "b537a068",
   "metadata": {
    "execution": {
     "iopub.execute_input": "2023-11-14T06:23:11.831657Z",
     "iopub.status.busy": "2023-11-14T06:23:11.830473Z",
     "iopub.status.idle": "2023-11-14T06:23:11.840593Z",
     "shell.execute_reply": "2023-11-14T06:23:11.839469Z"
    },
    "papermill": {
     "duration": 0.022808,
     "end_time": "2023-11-14T06:23:11.843106",
     "exception": false,
     "start_time": "2023-11-14T06:23:11.820298",
     "status": "completed"
    },
    "tags": []
   },
   "outputs": [
    {
     "data": {
      "text/html": [
       "<div class='tableauPlaceholder' id='viz1624190530110' style='position: relative'><noscript><a href='#'><img alt='Total Parking Space By Building State ' src='https:&#47;&#47;public.tableau.com&#47;static&#47;images&#47;Pa&#47;ParkingDataAnalysisProject&#47;Sheet5&#47;1_rss.png' style='border: none' /></a></noscript><object class='tableauViz'  style='display:none;'><param name='host_url' value='https%3A%2F%2Fpublic.tableau.com%2F' /> <param name='embed_code_version' value='3' /> <param name='site_root' value='' /><param name='name' value='ParkingDataAnalysisProject&#47;Sheet5' /><param name='tabs' value='no' /><param name='toolbar' value='yes' /><param name='static_image' value='https:&#47;&#47;public.tableau.com&#47;static&#47;images&#47;Pa&#47;ParkingDataAnalysisProject&#47;Sheet5&#47;1.png' /> <param name='animate_transition' value='yes' /><param name='display_static_image' value='yes' /><param name='display_spinner' value='yes' /><param name='display_overlay' value='yes' /><param name='display_count' value='yes' /><param name='language' value='en-US' /></object></div>                <script type='text/javascript'>                    var divElement = document.getElementById('viz1624190530110');                    var vizElement = divElement.getElementsByTagName('object')[0];                    vizElement.style.width='100%';vizElement.style.height=(divElement.offsetWidth*0.75)+'px';                    var scriptElement = document.createElement('script');                    scriptElement.src = 'https://public.tableau.com/javascripts/api/viz_v1.js';                    vizElement.parentNode.insertBefore(scriptElement, vizElement);                </script>\n"
      ],
      "text/plain": [
       "<IPython.core.display.HTML object>"
      ]
     },
     "metadata": {},
     "output_type": "display_data"
    }
   ],
   "source": [
    "%%HTML\n",
    "<div class='tableauPlaceholder' id='viz1624190530110' style='position: relative'><noscript><a href='#'><img alt='Total Parking Space By Building State ' src='https:&#47;&#47;public.tableau.com&#47;static&#47;images&#47;Pa&#47;ParkingDataAnalysisProject&#47;Sheet5&#47;1_rss.png' style='border: none' /></a></noscript><object class='tableauViz'  style='display:none;'><param name='host_url' value='https%3A%2F%2Fpublic.tableau.com%2F' /> <param name='embed_code_version' value='3' /> <param name='site_root' value='' /><param name='name' value='ParkingDataAnalysisProject&#47;Sheet5' /><param name='tabs' value='no' /><param name='toolbar' value='yes' /><param name='static_image' value='https:&#47;&#47;public.tableau.com&#47;static&#47;images&#47;Pa&#47;ParkingDataAnalysisProject&#47;Sheet5&#47;1.png' /> <param name='animate_transition' value='yes' /><param name='display_static_image' value='yes' /><param name='display_spinner' value='yes' /><param name='display_overlay' value='yes' /><param name='display_count' value='yes' /><param name='language' value='en-US' /></object></div>                <script type='text/javascript'>                    var divElement = document.getElementById('viz1624190530110');                    var vizElement = divElement.getElementsByTagName('object')[0];                    vizElement.style.width='100%';vizElement.style.height=(divElement.offsetWidth*0.75)+'px';                    var scriptElement = document.createElement('script');                    scriptElement.src = 'https://public.tableau.com/javascripts/api/viz_v1.js';                    vizElement.parentNode.insertBefore(scriptElement, vizElement);                </script>"
   ]
  }
 ],
 "metadata": {
  "kernelspec": {
   "display_name": "Python 3",
   "language": "python",
   "name": "python3"
  },
  "language_info": {
   "codemirror_mode": {
    "name": "ipython",
    "version": 3
   },
   "file_extension": ".py",
   "mimetype": "text/x-python",
   "name": "python",
   "nbconvert_exporter": "python",
   "pygments_lexer": "ipython3",
   "version": "3.10.12"
  },
  "papermill": {
   "default_parameters": {},
   "duration": 4.857845,
   "end_time": "2023-11-14T06:23:12.371191",
   "environment_variables": {},
   "exception": null,
   "input_path": "__notebook__.ipynb",
   "output_path": "__notebook__.ipynb",
   "parameters": {},
   "start_time": "2023-11-14T06:23:07.513346",
   "version": "2.4.0"
  }
 },
 "nbformat": 4,
 "nbformat_minor": 5
}
